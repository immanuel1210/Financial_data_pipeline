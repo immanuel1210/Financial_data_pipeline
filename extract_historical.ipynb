{
  "cells": [
    {
      "cell_type": "code",
      "execution_count": 1,
      "metadata": {
        "id": "Ro3DerP5Ol5y"
      },
      "outputs": [],
      "source": [
        "import pandas as pd\n",
        "import requests\n",
        "import json\n",
        "from datetime import datetime\n",
        "import sqlalchemy\n",
        "from sqlalchemy import create_engine\n",
        "from google.cloud import bigquery\n",
        "import os\n",
        "import pyarrow "
      ]
    },
    {
      "cell_type": "code",
      "execution_count": 2,
      "metadata": {},
      "outputs": [],
      "source": [
        "#To find the Service Account Key location in this project\n",
        "os.environ[\"GOOGLE_APPLICATION_CREDENTIALS\"] = \"D:\\\\Python\\\\Financial_data_pipeline\\\\exchange-rate-pipeline-476115-5100605ea811.json\""
      ]
    },
    {
      "cell_type": "code",
      "execution_count": 3,
      "metadata": {
        "id": "Hkj5NXJ9PCDy"
      },
      "outputs": [],
      "source": [
        "#API token for exchangerate.host\n",
        "api_token = \"8ed177bf655d362a495251f500f37a35\"\n",
        "\n",
        "list_url = f\"https://api.exchangerate.host/list?access_key={api_token}\""
      ]
    },
    {
      "cell_type": "code",
      "execution_count": 4,
      "metadata": {
        "id": "WMLrxzOMPPNb"
      },
      "outputs": [],
      "source": [
        "#to save the currency list as json\n",
        "# response = requests.get(list_url)\n",
        "\n",
        "# currency_list = response.json()\n",
        "\n",
        "# with open(\"currency_list.json\", \"w\") as f:\n",
        "#     json.dump(currency_list, f)"
      ]
    },
    {
      "cell_type": "code",
      "execution_count": 5,
      "metadata": {
        "colab": {
          "base_uri": "https://localhost:8080/",
          "height": 36
        },
        "id": "OoCg4F71QcUi",
        "outputId": "c32e3d7b-2943-4689-e08b-ae5aa1531ad8"
      },
      "outputs": [],
      "source": [
        "#to get the current date\n",
        "# today = datetime.today().strftime(\"%Y-%m-%d\")"
      ]
    },
    {
      "cell_type": "code",
      "execution_count": 6,
      "metadata": {
        "id": "Zyv0aOVQPphQ"
      },
      "outputs": [],
      "source": [
        "def extract_curr(base_currency=\"IDR\"):\n",
        "  # url = f\"https://api.exchangerate.host/timeframe?access_key={api_token}&source={base_currency}&start_date=2025-09-01&end_date={today}\"\n",
        "  url = f\"https://api.exchangerate.host/timeframe?access_key={api_token}&source={base_currency}&start_date=2025-09-01&end_date=2025-10-24\"\n",
        "  response = requests.get(url)\n",
        "\n",
        "  data = response.json()\n",
        "\n",
        "  #save the value as JSON\n",
        "  with open(\"historical_curr.json\", \"w\") as f:\n",
        "    json.dump(data, f)\n",
        "\n",
        "  return data"
      ]
    },
    {
      "cell_type": "code",
      "execution_count": 7,
      "metadata": {
        "id": "30D-5hWKTDZZ"
      },
      "outputs": [],
      "source": [
        "def transform_curr(data):\n",
        "  historical_curr = data['quotes']\n",
        "  records = []\n",
        "  #opening the dictionary\n",
        "  for date, rates in historical_curr.items():\n",
        "    for currency, rate in rates.items():\n",
        "      records.append({\n",
        "          \"Target_Currency\" : currency,\n",
        "          \"Base_Currency\" : \"IDR\",\n",
        "          \"Date\" : date,\n",
        "          \"Exchange_Rate\" : rate\n",
        "      })\n",
        "  df = pd.DataFrame(records)\n",
        "\n",
        "  df[\"Rate_in_IDR\"] = 1 / df[\"Exchange_Rate\"]\n",
        "  df[\"Target_Currency\"] = df['Target_Currency'].str.replace('IDR', '')\n",
        "\n",
        "  # Reload the currency DataFrame from the JSON file\n",
        "  with open(\"currency_list.json\",\"r\") as file:\n",
        "    curr = json.load(file)\n",
        "  currency_df = pd.DataFrame(curr[\"currencies\"].items(), columns=[\"Target_Currency\", \"Description\"])\n",
        "\n",
        "  #merging the currecny dataframe with the current df based on Target_Currency\n",
        "  df = df.merge(currency_df, on=\"Target_Currency\", how=\"left\")\n",
        "  df['Created_at'] = datetime.now().strftime('%Y-%m-%d %H:%M:%S')\n",
        "\n",
        "  #Format the data types for each column\n",
        "  df = df.astype({\n",
        "      \"Date\" : \"datetime64[ns]\",\n",
        "      \"Target_Currency\" : \"string\",\n",
        "      \"Exchange_Rate\" : \"float64\",\n",
        "      \"Rate_in_IDR\" : \"float64\",\n",
        "      \"Base_Currency\" : \"string\",\n",
        "      \"Description\" : \"string\",\n",
        "      \"Created_at\" : \"datetime64[ns]\"\n",
        "      })\n",
        "\n",
        "  #Reorder the columns order\n",
        "  column_order = ['Date','Target_Currency','Description','Exchange_Rate','Rate_in_IDR','Base_Currency','Created_at']\n",
        "  df = df[column_order]\n",
        "\n",
        "  return df"
      ]
    },
    {
      "cell_type": "code",
      "execution_count": 8,
      "metadata": {
        "id": "VA_yZSqTSxKw"
      },
      "outputs": [],
      "source": [
        "idr_rate = extract_curr('IDR')"
      ]
    },
    {
      "cell_type": "code",
      "execution_count": 9,
      "metadata": {
        "colab": {
          "base_uri": "https://localhost:8080/",
          "height": 206
        },
        "id": "2IX-0cBSXFeV",
        "outputId": "1a648b4b-47db-4136-de0f-1870aa971a41"
      },
      "outputs": [
        {
          "data": {
            "text/html": [
              "<div>\n",
              "<style scoped>\n",
              "    .dataframe tbody tr th:only-of-type {\n",
              "        vertical-align: middle;\n",
              "    }\n",
              "\n",
              "    .dataframe tbody tr th {\n",
              "        vertical-align: top;\n",
              "    }\n",
              "\n",
              "    .dataframe thead th {\n",
              "        text-align: right;\n",
              "    }\n",
              "</style>\n",
              "<table border=\"1\" class=\"dataframe\">\n",
              "  <thead>\n",
              "    <tr style=\"text-align: right;\">\n",
              "      <th></th>\n",
              "      <th>Date</th>\n",
              "      <th>Target_Currency</th>\n",
              "      <th>Description</th>\n",
              "      <th>Exchange_Rate</th>\n",
              "      <th>Rate_in_IDR</th>\n",
              "      <th>Base_Currency</th>\n",
              "      <th>Created_at</th>\n",
              "    </tr>\n",
              "  </thead>\n",
              "  <tbody>\n",
              "    <tr>\n",
              "      <th>0</th>\n",
              "      <td>2025-09-01</td>\n",
              "      <td>AED</td>\n",
              "      <td>United Arab Emirates Dirham</td>\n",
              "      <td>0.000223</td>\n",
              "      <td>4484.304933</td>\n",
              "      <td>IDR</td>\n",
              "      <td>2025-10-26 18:36:01</td>\n",
              "    </tr>\n",
              "    <tr>\n",
              "      <th>1</th>\n",
              "      <td>2025-09-01</td>\n",
              "      <td>AFN</td>\n",
              "      <td>Afghan Afghani</td>\n",
              "      <td>0.004162</td>\n",
              "      <td>240.269101</td>\n",
              "      <td>IDR</td>\n",
              "      <td>2025-10-26 18:36:01</td>\n",
              "    </tr>\n",
              "    <tr>\n",
              "      <th>2</th>\n",
              "      <td>2025-09-01</td>\n",
              "      <td>ALL</td>\n",
              "      <td>Albanian Lek</td>\n",
              "      <td>0.005083</td>\n",
              "      <td>196.734212</td>\n",
              "      <td>IDR</td>\n",
              "      <td>2025-10-26 18:36:01</td>\n",
              "    </tr>\n",
              "    <tr>\n",
              "      <th>3</th>\n",
              "      <td>2025-09-01</td>\n",
              "      <td>AMD</td>\n",
              "      <td>Armenian Dram</td>\n",
              "      <td>0.023276</td>\n",
              "      <td>42.962708</td>\n",
              "      <td>IDR</td>\n",
              "      <td>2025-10-26 18:36:01</td>\n",
              "    </tr>\n",
              "    <tr>\n",
              "      <th>4</th>\n",
              "      <td>2025-09-01</td>\n",
              "      <td>ANG</td>\n",
              "      <td>Netherlands Antillean Guilder</td>\n",
              "      <td>0.000109</td>\n",
              "      <td>9174.311927</td>\n",
              "      <td>IDR</td>\n",
              "      <td>2025-10-26 18:36:01</td>\n",
              "    </tr>\n",
              "  </tbody>\n",
              "</table>\n",
              "</div>"
            ],
            "text/plain": [
              "        Date Target_Currency                    Description  Exchange_Rate  \\\n",
              "0 2025-09-01             AED    United Arab Emirates Dirham       0.000223   \n",
              "1 2025-09-01             AFN                 Afghan Afghani       0.004162   \n",
              "2 2025-09-01             ALL                   Albanian Lek       0.005083   \n",
              "3 2025-09-01             AMD                  Armenian Dram       0.023276   \n",
              "4 2025-09-01             ANG  Netherlands Antillean Guilder       0.000109   \n",
              "\n",
              "   Rate_in_IDR Base_Currency          Created_at  \n",
              "0  4484.304933           IDR 2025-10-26 18:36:01  \n",
              "1   240.269101           IDR 2025-10-26 18:36:01  \n",
              "2   196.734212           IDR 2025-10-26 18:36:01  \n",
              "3    42.962708           IDR 2025-10-26 18:36:01  \n",
              "4  9174.311927           IDR 2025-10-26 18:36:01  "
            ]
          },
          "execution_count": 9,
          "metadata": {},
          "output_type": "execute_result"
        }
      ],
      "source": [
        "df = transform_curr(idr_rate)\n",
        "\n",
        "df.head()"
      ]
    },
    {
      "cell_type": "code",
      "execution_count": 10,
      "metadata": {
        "colab": {
          "base_uri": "https://localhost:8080/"
        },
        "id": "s9jEVO2dibE7",
        "outputId": "e517038e-e0cc-4cc1-f287-7042ef87e890"
      },
      "outputs": [
        {
          "name": "stdout",
          "output_type": "stream",
          "text": [
            "Date               datetime64[ns]\n",
            "Target_Currency    string[python]\n",
            "Description        string[python]\n",
            "Exchange_Rate             float64\n",
            "Rate_in_IDR               float64\n",
            "Base_Currency      string[python]\n",
            "Created_at         datetime64[ns]\n",
            "dtype: object\n"
          ]
        }
      ],
      "source": [
        "print(df.dtypes)"
      ]
    },
    {
      "cell_type": "code",
      "execution_count": 11,
      "metadata": {},
      "outputs": [
        {
          "name": "stdout",
          "output_type": "stream",
          "text": [
            "<class 'pandas.core.frame.DataFrame'>\n",
            "RangeIndex: 9234 entries, 0 to 9233\n",
            "Data columns (total 7 columns):\n",
            " #   Column           Non-Null Count  Dtype         \n",
            "---  ------           --------------  -----         \n",
            " 0   Date             9234 non-null   datetime64[ns]\n",
            " 1   Target_Currency  9234 non-null   string        \n",
            " 2   Description      9234 non-null   string        \n",
            " 3   Exchange_Rate    9234 non-null   float64       \n",
            " 4   Rate_in_IDR      9234 non-null   float64       \n",
            " 5   Base_Currency    9234 non-null   string        \n",
            " 6   Created_at       9234 non-null   datetime64[ns]\n",
            "dtypes: datetime64[ns](2), float64(2), string(3)\n",
            "memory usage: 505.1 KB\n",
            "None\n"
          ]
        }
      ],
      "source": [
        "print(df.info())"
      ]
    },
    {
      "cell_type": "code",
      "execution_count": 12,
      "metadata": {},
      "outputs": [],
      "source": [
        "def load_to_bigquery(df,table_name):\n",
        "    client = bigquery.Client()\n",
        "    \n",
        "    #Define the name of the project, dataset, and table\n",
        "    project_id = \"exchange-rate-pipeline-476115\"\n",
        "    dataset_id = \"currency_data\"\n",
        "    table_id = table_name\n",
        "    \n",
        "    table_ref = f\"{project_id}.{dataset_id}.{table_id}\"\n",
        "    try: \n",
        "        job_config = bigquery.LoadJobConfig(\n",
        "            write_disposition = bigquery.WriteDisposition.WRITE_TRUNCATE,\n",
        "        )\n",
        "\n",
        "        #Load the dataframe to bigquery's table\n",
        "        job = client.load_table_from_dataframe(df, table_ref, job_config = job_config)\n",
        "        job.result()\n",
        "\n",
        "        table = client.get_table(table_ref)\n",
        "        print(\"Data berhasil dimuat\")\n",
        "    \n",
        "    except Exception as e:\n",
        "        print(\"Data gagal dimuat\",e)\n",
        "\n",
        "\n"
      ]
    },
    {
      "cell_type": "code",
      "execution_count": 13,
      "metadata": {},
      "outputs": [
        {
          "name": "stderr",
          "output_type": "stream",
          "text": [
            "d:\\Python\\Financial_data_pipeline\\venv\\Lib\\site-packages\\google\\cloud\\bigquery\\_pandas_helpers.py:484: FutureWarning: Loading pandas DataFrame into BigQuery will require pandas-gbq package version 0.26.1 or greater in the future. Tried to import pandas-gbq and got: No module named 'pandas_gbq'\n",
            "  warnings.warn(\n"
          ]
        },
        {
          "name": "stdout",
          "output_type": "stream",
          "text": [
            "Data berhasil dimuat\n"
          ]
        }
      ],
      "source": [
        "table_exchange_rate = \"exchange_rate\"\n",
        "df = load_to_bigquery(df,table_exchange_rate)"
      ]
    },
    {
      "cell_type": "code",
      "execution_count": 14,
      "metadata": {
        "id": "04RUHsMsrki3"
      },
      "outputs": [],
      "source": [
        "# def load_to_mysql(df):\n",
        "#   #connect the MySQL database\n",
        "#   usr = 'root'\n",
        "#   pwd = 'root'\n",
        "#   host = '127.0.0.1'\n",
        "#   port = 3306\n",
        "#   dbName = 'currency'\n",
        "#   tableName = 'exchange_rate'\n",
        "#   try:\n",
        "#     engine = create_engine(f\"mysql+mysqldb://{usr}:{pwd}@{host}:{port}/{dbName}\",\n",
        "#                            echo=True,\n",
        "#                            future=True)\n",
        "#     #Send the dataframes to MySQL table\n",
        "#     df.to_sql(name=tableName, con=engine, if_exists=\"replace\", index=False)\n",
        "\n",
        "#     print(\"Data berhasil dimuat ke tabel 'exchange_rate' di MySQL\")\n",
        "#   except Exception as e:\n",
        "#     print(\"Gagal memuat data ke mysql:\",e)"
      ]
    },
    {
      "cell_type": "code",
      "execution_count": 15,
      "metadata": {},
      "outputs": [],
      "source": [
        "# df = load_to_mysql(df)"
      ]
    },
    {
      "cell_type": "code",
      "execution_count": 16,
      "metadata": {},
      "outputs": [],
      "source": [
        "# #Filtering the dataframes by Target_Currency with the values is JPY\n",
        "# df[df['Target_Currency'] == 'JPY']"
      ]
    }
  ],
  "metadata": {
    "colab": {
      "provenance": []
    },
    "kernelspec": {
      "display_name": "venv (3.13.1)",
      "language": "python",
      "name": "python3"
    },
    "language_info": {
      "codemirror_mode": {
        "name": "ipython",
        "version": 3
      },
      "file_extension": ".py",
      "mimetype": "text/x-python",
      "name": "python",
      "nbconvert_exporter": "python",
      "pygments_lexer": "ipython3",
      "version": "3.13.1"
    }
  },
  "nbformat": 4,
  "nbformat_minor": 0
}
