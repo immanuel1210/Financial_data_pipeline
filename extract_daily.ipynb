{
 "cells": [
  {
   "cell_type": "code",
   "execution_count": 3,
   "id": "6fe4842c",
   "metadata": {},
   "outputs": [],
   "source": [
    "#import libraries for the project\n",
    "import pandas as pd\n",
    "import requests \n",
    "import json\n",
    "from datetime import datetime, timezone\n",
    "import sqlalchemy\n",
    "from sqlalchemy import create_engine\n",
    "from google.cloud import bigquery\n",
    "import os\n",
    "import pyarrow\n"
   ]
  },
  {
   "cell_type": "code",
   "execution_count": 4,
   "id": "e118ae7a",
   "metadata": {},
   "outputs": [],
   "source": [
    "#To find the Service Account Key location in this project\n",
    "os.environ[\"GOOGLE_APPLICATION_CREDENTIALS\"] = \"D:\\\\Python\\\\Financial_data_pipeline\\\\exchange-rate-pipeline-476115-5100605ea811.json\""
   ]
  },
  {
   "cell_type": "code",
   "execution_count": 5,
   "id": "e7f783dc",
   "metadata": {},
   "outputs": [],
   "source": [
    "#The api_token to connect with exchangerate.host\n",
    "api_token = \"8ed177bf655d362a495251f500f37a35\""
   ]
  },
  {
   "cell_type": "code",
   "execution_count": 6,
   "id": "e1a36ae5",
   "metadata": {},
   "outputs": [],
   "source": [
    "#Extracting the currencies rate from exchangerate.host\n",
    "def extract_curr(base=\"IDR\"):\n",
    "  url = f\"https://api.exchangerate.host/live?access_key={api_token}&source={base}\"\n",
    "  response = requests.get(url)\n",
    "  data = response.json()\n",
    "\n",
    "  return data"
   ]
  },
  {
   "cell_type": "code",
   "execution_count": 7,
   "id": "c73befc8",
   "metadata": {},
   "outputs": [],
   "source": [
    "def transform_curr(data):\n",
    "    rates = data[\"quotes\"]\n",
    "\n",
    "    #Transform the json to dataframes\n",
    "    df = pd.DataFrame(rates.items(), columns = [\"Target_Currency\",\"Exchange_Rate\"])\n",
    "\n",
    "    #Adding and formatting tables for bettter data insight\n",
    "    df[\"Target_Currency\"] = df[\"Target_Currency\"].str.replace(\"IDR\",\"\")\n",
    "    df[\"Base_Currency\"] = data[\"source\"]\n",
    "    df[\"Date\"] = datetime.fromtimestamp(data[\"timestamp\"], tz = timezone.utc).strftime('%Y-%m-%d')\n",
    "    df[\"Rate_in_IDR\"] = 1 / df[\"Exchange_Rate\"]\n",
    "    \n",
    "    #Opening the currency_list.json\n",
    "    with open(\"currency_list.json\",\"r\") as file:\n",
    "        curr = json.load(file)\n",
    "    currency_df = pd.DataFrame(curr[\"currencies\"].items(), columns = [\"Target_Currency\",\"Description\"])\n",
    "\n",
    "    #Merge the dataframes by Target_Currency    \n",
    "    df = df.merge(currency_df, on = \"Target_Currency\", how = \"left\")\n",
    "\n",
    "    #Created the Created_at column to get the information when the data is extracted\n",
    "    df[\"Created_at\"] = datetime.now().strftime('%Y-%m-%d %H:%M:%S')\n",
    "\n",
    "    #Format the columns' data types\n",
    "    df = df.astype({\n",
    "        \"Date\" : \"datetime64[ns]\",\n",
    "        \"Target_Currency\" : \"string\",\n",
    "        \"Exchange_Rate\" : \"float64\",\n",
    "        \"Rate_in_IDR\" : \"float64\",\n",
    "        \"Base_Currency\" : \"string\",\n",
    "        \"Description\" : \"string\",\n",
    "        \"Created_at\" : \"datetime64[ns]\"\n",
    "    })\n",
    "\n",
    "    #Reorder the columns\n",
    "    column_order = ['Date','Target_Currency','Description','Exchange_Rate','Rate_in_IDR','Base_Currency','Created_at']\n",
    "    df = df[column_order]\n",
    "\n",
    "    #Return df \n",
    "    return df"
   ]
  },
  {
   "cell_type": "code",
   "execution_count": 8,
   "id": "3455a0a8",
   "metadata": {},
   "outputs": [],
   "source": [
    "idr_rate = extract_curr(\"IDR\")"
   ]
  },
  {
   "cell_type": "code",
   "execution_count": 9,
   "id": "36004111",
   "metadata": {},
   "outputs": [
    {
     "data": {
      "text/html": [
       "<div>\n",
       "<style scoped>\n",
       "    .dataframe tbody tr th:only-of-type {\n",
       "        vertical-align: middle;\n",
       "    }\n",
       "\n",
       "    .dataframe tbody tr th {\n",
       "        vertical-align: top;\n",
       "    }\n",
       "\n",
       "    .dataframe thead th {\n",
       "        text-align: right;\n",
       "    }\n",
       "</style>\n",
       "<table border=\"1\" class=\"dataframe\">\n",
       "  <thead>\n",
       "    <tr style=\"text-align: right;\">\n",
       "      <th></th>\n",
       "      <th>Date</th>\n",
       "      <th>Target_Currency</th>\n",
       "      <th>Description</th>\n",
       "      <th>Exchange_Rate</th>\n",
       "      <th>Rate_in_IDR</th>\n",
       "      <th>Base_Currency</th>\n",
       "      <th>Created_at</th>\n",
       "    </tr>\n",
       "  </thead>\n",
       "  <tbody>\n",
       "    <tr>\n",
       "      <th>0</th>\n",
       "      <td>2025-10-26</td>\n",
       "      <td>AED</td>\n",
       "      <td>United Arab Emirates Dirham</td>\n",
       "      <td>0.000221</td>\n",
       "      <td>4524.886878</td>\n",
       "      <td>IDR</td>\n",
       "      <td>2025-10-26 22:07:18</td>\n",
       "    </tr>\n",
       "    <tr>\n",
       "      <th>1</th>\n",
       "      <td>2025-10-26</td>\n",
       "      <td>AFN</td>\n",
       "      <td>Afghan Afghani</td>\n",
       "      <td>0.003991</td>\n",
       "      <td>250.563768</td>\n",
       "      <td>IDR</td>\n",
       "      <td>2025-10-26 22:07:18</td>\n",
       "    </tr>\n",
       "    <tr>\n",
       "      <th>2</th>\n",
       "      <td>2025-10-26</td>\n",
       "      <td>ALL</td>\n",
       "      <td>Albanian Lek</td>\n",
       "      <td>0.005004</td>\n",
       "      <td>199.840128</td>\n",
       "      <td>IDR</td>\n",
       "      <td>2025-10-26 22:07:18</td>\n",
       "    </tr>\n",
       "    <tr>\n",
       "      <th>3</th>\n",
       "      <td>2025-10-26</td>\n",
       "      <td>AMD</td>\n",
       "      <td>Armenian Dram</td>\n",
       "      <td>0.023005</td>\n",
       "      <td>43.468811</td>\n",
       "      <td>IDR</td>\n",
       "      <td>2025-10-26 22:07:18</td>\n",
       "    </tr>\n",
       "    <tr>\n",
       "      <th>4</th>\n",
       "      <td>2025-10-26</td>\n",
       "      <td>ANG</td>\n",
       "      <td>Netherlands Antillean Guilder</td>\n",
       "      <td>0.000108</td>\n",
       "      <td>9259.259259</td>\n",
       "      <td>IDR</td>\n",
       "      <td>2025-10-26 22:07:18</td>\n",
       "    </tr>\n",
       "  </tbody>\n",
       "</table>\n",
       "</div>"
      ],
      "text/plain": [
       "        Date Target_Currency                    Description  Exchange_Rate  \\\n",
       "0 2025-10-26             AED    United Arab Emirates Dirham       0.000221   \n",
       "1 2025-10-26             AFN                 Afghan Afghani       0.003991   \n",
       "2 2025-10-26             ALL                   Albanian Lek       0.005004   \n",
       "3 2025-10-26             AMD                  Armenian Dram       0.023005   \n",
       "4 2025-10-26             ANG  Netherlands Antillean Guilder       0.000108   \n",
       "\n",
       "   Rate_in_IDR Base_Currency          Created_at  \n",
       "0  4524.886878           IDR 2025-10-26 22:07:18  \n",
       "1   250.563768           IDR 2025-10-26 22:07:18  \n",
       "2   199.840128           IDR 2025-10-26 22:07:18  \n",
       "3    43.468811           IDR 2025-10-26 22:07:18  \n",
       "4  9259.259259           IDR 2025-10-26 22:07:18  "
      ]
     },
     "execution_count": 9,
     "metadata": {},
     "output_type": "execute_result"
    }
   ],
   "source": [
    "df = transform_curr(idr_rate)\n",
    "\n",
    "df.head()"
   ]
  },
  {
   "cell_type": "code",
   "execution_count": 10,
   "id": "e7b701af",
   "metadata": {},
   "outputs": [
    {
     "name": "stdout",
     "output_type": "stream",
     "text": [
      "<class 'pandas.core.frame.DataFrame'>\n",
      "RangeIndex: 171 entries, 0 to 170\n",
      "Data columns (total 7 columns):\n",
      " #   Column           Non-Null Count  Dtype         \n",
      "---  ------           --------------  -----         \n",
      " 0   Date             171 non-null    datetime64[ns]\n",
      " 1   Target_Currency  171 non-null    string        \n",
      " 2   Description      171 non-null    string        \n",
      " 3   Exchange_Rate    171 non-null    float64       \n",
      " 4   Rate_in_IDR      171 non-null    float64       \n",
      " 5   Base_Currency    171 non-null    string        \n",
      " 6   Created_at       171 non-null    datetime64[ns]\n",
      "dtypes: datetime64[ns](2), float64(2), string(3)\n",
      "memory usage: 9.5 KB\n",
      "None\n"
     ]
    }
   ],
   "source": [
    "print(df.info())"
   ]
  },
  {
   "cell_type": "code",
   "execution_count": 11,
   "id": "f3aabd12",
   "metadata": {},
   "outputs": [],
   "source": [
    "def load_to_bigquery(df,table_name):\n",
    "    client = bigquery.Client()\n",
    "\n",
    "    #Define the project, dataset, and table\n",
    "    project_id = \"exchange-rate-pipeline-476115\"\n",
    "    dataset_id = \"currency_data\"\n",
    "    table_id = table_name\n",
    "\n",
    "    table_ref = f\"{project_id}.{dataset_id}.{table_id}\"\n",
    "\n",
    "    try:\n",
    "        job_config = bigquery.LoadJobConfig(\n",
    "            write_disposition = bigquery.WriteDisposition.WRITE_APPEND,\n",
    "        )\n",
    "\n",
    "        #Load the dataframe to bigquery's table\n",
    "        job = client.load_table_from_dataframe(df,table_ref,job_config = job_config)\n",
    "        job.result()\n",
    "\n",
    "        table = client.get_table(table_ref)\n",
    "        print(\"Data berhasil dimuat\", table)\n",
    "\n",
    "    except Exception as e:\n",
    "        print(\"Data gagal dimuat\", e)"
   ]
  },
  {
   "cell_type": "code",
   "execution_count": 14,
   "id": "94f79454",
   "metadata": {},
   "outputs": [
    {
     "name": "stderr",
     "output_type": "stream",
     "text": [
      "d:\\Python\\Financial_data_pipeline\\venv\\Lib\\site-packages\\google\\cloud\\bigquery\\_pandas_helpers.py:484: FutureWarning: Loading pandas DataFrame into BigQuery will require pandas-gbq package version 0.26.1 or greater in the future. Tried to import pandas-gbq and got: No module named 'pandas_gbq'\n",
      "  warnings.warn(\n"
     ]
    },
    {
     "name": "stdout",
     "output_type": "stream",
     "text": [
      "Data berhasil dimuat exchange-rate-pipeline-476115.currency_data.exchange_rate\n"
     ]
    }
   ],
   "source": [
    "table_exchange_rate = \"exchange_rate\"\n",
    "\n",
    "df = load_to_bigquery(df,table_exchange_rate)"
   ]
  },
  {
   "cell_type": "code",
   "execution_count": 12,
   "id": "d0d5410d",
   "metadata": {},
   "outputs": [],
   "source": [
    "# def load_to_mysql(df):\n",
    "#   #connect the MySQL database\n",
    "#   usr = 'root'\n",
    "#   pwd = 'root'\n",
    "#   host = '127.0.0.1'\n",
    "#   port = 3306\n",
    "#   dbName = 'currency'\n",
    "#   tableName = 'exchange_rate'\n",
    "#   try:\n",
    "#     engine = create_engine(f\"mysql+mysqldb://{usr}:{pwd}@{host}:{port}/{dbName}\",\n",
    "#                            echo=True,\n",
    "#                            future=True)\n",
    "#     #Send the dataframes to MySQL table\n",
    "#     df.to_sql(name=tableName, con=engine, if_exists=\"append\", index=False)\n",
    "\n",
    "#     print(\"Data berhasil ditambahkan ke tabel 'exchange_rate' di MySQL\")\n",
    "#   except Exception as e:\n",
    "#     print(\"Gagal memuat data ke mysql:\",e)"
   ]
  },
  {
   "cell_type": "code",
   "execution_count": 13,
   "id": "45dae148",
   "metadata": {},
   "outputs": [],
   "source": [
    "# df = load_to_mysql(df)"
   ]
  }
 ],
 "metadata": {
  "kernelspec": {
   "display_name": "venv (3.13.1)",
   "language": "python",
   "name": "python3"
  },
  "language_info": {
   "codemirror_mode": {
    "name": "ipython",
    "version": 3
   },
   "file_extension": ".py",
   "mimetype": "text/x-python",
   "name": "python",
   "nbconvert_exporter": "python",
   "pygments_lexer": "ipython3",
   "version": "3.13.1"
  }
 },
 "nbformat": 4,
 "nbformat_minor": 5
}
