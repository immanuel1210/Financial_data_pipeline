{
 "cells": [
  {
   "cell_type": "code",
   "execution_count": null,
   "id": "6fe4842c",
   "metadata": {},
   "outputs": [],
   "source": [
    "#import libraries for the project\n",
    "import pandas as pd\n",
    "import requests \n",
    "import json\n",
    "from datetime import datetime, timezone\n",
    "import sqlalchemy\n",
    "from sqlalchemy import create_engine\n"
   ]
  },
  {
   "cell_type": "code",
   "execution_count": null,
   "id": "e7f783dc",
   "metadata": {},
   "outputs": [],
   "source": [
    "#The api_token to connect with exchangerate.host\n",
    "api_token = \"8ed177bf655d362a495251f500f37a35\""
   ]
  },
  {
   "cell_type": "code",
   "execution_count": null,
   "id": "e1a36ae5",
   "metadata": {},
   "outputs": [],
   "source": [
    "#Extracting the currencies rate from exchangerate.host\n",
    "def extract_curr(base=\"IDR\"):\n",
    "  url = f\"https://api.exchangerate.host/live?access_key={api_token}&source={base}\"\n",
    "  response = requests.get(url)\n",
    "  data = response.json()\n",
    "\n",
    "  return data"
   ]
  },
  {
   "cell_type": "code",
   "execution_count": null,
   "id": "c73befc8",
   "metadata": {},
   "outputs": [],
   "source": [
    "def transform_curr(data):\n",
    "    rates = data[\"quotes\"]\n",
    "\n",
    "    #Transform the json to dataframes\n",
    "    df = pd.DataFrame(rates.items(), columns = [\"Target_Currency\",\"Exchange_Rate\"])\n",
    "\n",
    "    #Adding and formatting tables for bettter data insight\n",
    "    df[\"Target_Currency\"] = df[\"Target_Currency\"].str.replace(\"IDR\",\"\")\n",
    "    df[\"Base_Currency\"] = data[\"source\"]\n",
    "    df[\"Date\"] = datetime.fromtimestamp(data[\"timestamp\"], tz = timezone.utc).strftime('%Y-%m-%d')\n",
    "    df[\"Rate_in_IDR\"] = 1 / df[\"Exchange_Rate\"]\n",
    "    \n",
    "    #Opening the currency_list.json\n",
    "    with open(\"currency_list.json\",\"r\") as file:\n",
    "        curr = json.load(file)\n",
    "    currency_df = pd.DataFrame(curr[\"currencies\"].items(), columns = [\"Target_Currency\",\"Description\"])\n",
    "\n",
    "    #Merge the dataframes by Target_Currency    \n",
    "    df = df.merge(currency_df, on = \"Target_Currency\", how = \"left\")\n",
    "\n",
    "    #Created the Created_at column to get the information when the data is extracted\n",
    "    df[\"Created_at\"] = datetime.now().strftime('%Y-%m-%d %H:%M:%S')\n",
    "\n",
    "    #Format the columns' data types\n",
    "    df = df.astype({\n",
    "        \"Date\" : \"datetime64[ns]\",\n",
    "        \"Target_Currency\" : \"string\",\n",
    "        \"Exchange_Rate\" : \"float64\",\n",
    "        \"Rate_in_IDR\" : \"float64\",\n",
    "        \"Base_Currency\" : \"string\",\n",
    "        \"Description\" : \"string\",\n",
    "        \"Created_at\" : \"datetime64[ns]\"\n",
    "    })\n",
    "\n",
    "    #Reorder the columns\n",
    "    column_order = ['Date','Target_Currency','Description','Exchange_Rate','Rate_in_IDR','Base_Currency','Created_at']\n",
    "    df = df[column_order]\n",
    "\n",
    "    #Return df \n",
    "    return df"
   ]
  },
  {
   "cell_type": "code",
   "execution_count": 9,
   "id": "3455a0a8",
   "metadata": {},
   "outputs": [],
   "source": [
    "idr_rate = extract_curr(\"IDR\")"
   ]
  },
  {
   "cell_type": "code",
   "execution_count": 23,
   "id": "36004111",
   "metadata": {},
   "outputs": [
    {
     "data": {
      "text/html": [
       "<div>\n",
       "<style scoped>\n",
       "    .dataframe tbody tr th:only-of-type {\n",
       "        vertical-align: middle;\n",
       "    }\n",
       "\n",
       "    .dataframe tbody tr th {\n",
       "        vertical-align: top;\n",
       "    }\n",
       "\n",
       "    .dataframe thead th {\n",
       "        text-align: right;\n",
       "    }\n",
       "</style>\n",
       "<table border=\"1\" class=\"dataframe\">\n",
       "  <thead>\n",
       "    <tr style=\"text-align: right;\">\n",
       "      <th></th>\n",
       "      <th>Date</th>\n",
       "      <th>Target_Currency</th>\n",
       "      <th>Description</th>\n",
       "      <th>Exchange_Rate</th>\n",
       "      <th>Rate_in_IDR</th>\n",
       "      <th>Base_Currency</th>\n",
       "      <th>Created_at</th>\n",
       "    </tr>\n",
       "  </thead>\n",
       "  <tbody>\n",
       "    <tr>\n",
       "      <th>0</th>\n",
       "      <td>2025-10-20</td>\n",
       "      <td>AED</td>\n",
       "      <td>United Arab Emirates Dirham</td>\n",
       "      <td>0.000222</td>\n",
       "      <td>4504.504505</td>\n",
       "      <td>IDR</td>\n",
       "      <td>2025-10-20 13:28:22</td>\n",
       "    </tr>\n",
       "    <tr>\n",
       "      <th>1</th>\n",
       "      <td>2025-10-20</td>\n",
       "      <td>AFN</td>\n",
       "      <td>Afghan Afghani</td>\n",
       "      <td>0.004020</td>\n",
       "      <td>248.756219</td>\n",
       "      <td>IDR</td>\n",
       "      <td>2025-10-20 13:28:22</td>\n",
       "    </tr>\n",
       "    <tr>\n",
       "      <th>2</th>\n",
       "      <td>2025-10-20</td>\n",
       "      <td>ALL</td>\n",
       "      <td>Albanian Lek</td>\n",
       "      <td>0.004997</td>\n",
       "      <td>200.120072</td>\n",
       "      <td>IDR</td>\n",
       "      <td>2025-10-20 13:28:22</td>\n",
       "    </tr>\n",
       "    <tr>\n",
       "      <th>3</th>\n",
       "      <td>2025-10-20</td>\n",
       "      <td>AMD</td>\n",
       "      <td>Armenian Dram</td>\n",
       "      <td>0.023214</td>\n",
       "      <td>43.077453</td>\n",
       "      <td>IDR</td>\n",
       "      <td>2025-10-20 13:28:22</td>\n",
       "    </tr>\n",
       "    <tr>\n",
       "      <th>4</th>\n",
       "      <td>2025-10-20</td>\n",
       "      <td>ANG</td>\n",
       "      <td>Netherlands Antillean Guilder</td>\n",
       "      <td>0.000108</td>\n",
       "      <td>9259.259259</td>\n",
       "      <td>IDR</td>\n",
       "      <td>2025-10-20 13:28:22</td>\n",
       "    </tr>\n",
       "  </tbody>\n",
       "</table>\n",
       "</div>"
      ],
      "text/plain": [
       "        Date Target_Currency                    Description  Exchange_Rate  \\\n",
       "0 2025-10-20             AED    United Arab Emirates Dirham       0.000222   \n",
       "1 2025-10-20             AFN                 Afghan Afghani       0.004020   \n",
       "2 2025-10-20             ALL                   Albanian Lek       0.004997   \n",
       "3 2025-10-20             AMD                  Armenian Dram       0.023214   \n",
       "4 2025-10-20             ANG  Netherlands Antillean Guilder       0.000108   \n",
       "\n",
       "   Rate_in_IDR Base_Currency          Created_at  \n",
       "0  4504.504505           IDR 2025-10-20 13:28:22  \n",
       "1   248.756219           IDR 2025-10-20 13:28:22  \n",
       "2   200.120072           IDR 2025-10-20 13:28:22  \n",
       "3    43.077453           IDR 2025-10-20 13:28:22  \n",
       "4  9259.259259           IDR 2025-10-20 13:28:22  "
      ]
     },
     "execution_count": 23,
     "metadata": {},
     "output_type": "execute_result"
    }
   ],
   "source": [
    "df = transform_curr(idr_rate)\n",
    "\n",
    "df.head()"
   ]
  },
  {
   "cell_type": "code",
   "execution_count": 18,
   "id": "61385ada",
   "metadata": {},
   "outputs": [
    {
     "data": {
      "text/html": [
       "<div>\n",
       "<style scoped>\n",
       "    .dataframe tbody tr th:only-of-type {\n",
       "        vertical-align: middle;\n",
       "    }\n",
       "\n",
       "    .dataframe tbody tr th {\n",
       "        vertical-align: top;\n",
       "    }\n",
       "\n",
       "    .dataframe thead th {\n",
       "        text-align: right;\n",
       "    }\n",
       "</style>\n",
       "<table border=\"1\" class=\"dataframe\">\n",
       "  <thead>\n",
       "    <tr style=\"text-align: right;\">\n",
       "      <th></th>\n",
       "      <th>Date</th>\n",
       "      <th>Target_Currency</th>\n",
       "      <th>Description</th>\n",
       "      <th>Exchange_Rate</th>\n",
       "      <th>Rate_in_IDR</th>\n",
       "      <th>Base_Currency</th>\n",
       "      <th>Created_at</th>\n",
       "    </tr>\n",
       "  </thead>\n",
       "  <tbody>\n",
       "    <tr>\n",
       "      <th>73</th>\n",
       "      <td>2025-10-20</td>\n",
       "      <td>JPY</td>\n",
       "      <td>Japanese Yen</td>\n",
       "      <td>0.009089</td>\n",
       "      <td>110.023105</td>\n",
       "      <td>IDR</td>\n",
       "      <td>2025-10-20 13:11:20</td>\n",
       "    </tr>\n",
       "  </tbody>\n",
       "</table>\n",
       "</div>"
      ],
      "text/plain": [
       "         Date Target_Currency   Description  Exchange_Rate  Rate_in_IDR  \\\n",
       "73 2025-10-20             JPY  Japanese Yen       0.009089   110.023105   \n",
       "\n",
       "   Base_Currency          Created_at  \n",
       "73           IDR 2025-10-20 13:11:20  "
      ]
     },
     "execution_count": 18,
     "metadata": {},
     "output_type": "execute_result"
    }
   ],
   "source": [
    "df[df['Target_Currency'] == 'JPY']"
   ]
  },
  {
   "cell_type": "code",
   "execution_count": 20,
   "id": "d0d5410d",
   "metadata": {},
   "outputs": [],
   "source": [
    "def load_to_mysql(df):\n",
    "  #connect the MySQL database\n",
    "  usr = 'root'\n",
    "  pwd = 'root'\n",
    "  host = '127.0.0.1'\n",
    "  port = 3306\n",
    "  dbName = 'currency'\n",
    "  tableName = 'exchange_rate'\n",
    "  try:\n",
    "    engine = create_engine(f\"mysql+mysqldb://{usr}:{pwd}@{host}:{port}/{dbName}\",\n",
    "                           echo=True,\n",
    "                           future=True)\n",
    "    #Send the dataframes to MySQL table\n",
    "    df.to_sql(name=tableName, con=engine, if_exists=\"append\", index=False)\n",
    "\n",
    "    print(\"Data berhasil ditambahkan ke tabel 'exchange_rate' di MySQL\")\n",
    "  except Exception as e:\n",
    "    print(\"Gagal memuat data ke mysql:\",e)"
   ]
  },
  {
   "cell_type": "code",
   "execution_count": 21,
   "id": "45dae148",
   "metadata": {},
   "outputs": [
    {
     "name": "stdout",
     "output_type": "stream",
     "text": [
      "2025-10-20 13:23:42,389 INFO sqlalchemy.engine.Engine SELECT DATABASE()\n",
      "2025-10-20 13:23:42,390 INFO sqlalchemy.engine.Engine [raw sql] ()\n",
      "2025-10-20 13:23:42,392 INFO sqlalchemy.engine.Engine SELECT @@sql_mode\n",
      "2025-10-20 13:23:42,392 INFO sqlalchemy.engine.Engine [raw sql] ()\n",
      "2025-10-20 13:23:42,393 INFO sqlalchemy.engine.Engine SELECT @@lower_case_table_names\n",
      "2025-10-20 13:23:42,394 INFO sqlalchemy.engine.Engine [raw sql] ()\n",
      "2025-10-20 13:23:42,395 INFO sqlalchemy.engine.Engine BEGIN (implicit)\n",
      "2025-10-20 13:23:42,397 INFO sqlalchemy.engine.Engine DESCRIBE `currency`.`exchange_rate`\n",
      "2025-10-20 13:23:42,397 INFO sqlalchemy.engine.Engine [raw sql] ()\n",
      "2025-10-20 13:23:42,405 INFO sqlalchemy.engine.Engine INSERT INTO exchange_rate (`Date`, `Target_Currency`, `Description`, `Exchange_Rate`, `Rate_in_IDR`, `Base_Currency`, `Created_at`) VALUES (%s, %s, %s, %s, %s, %s, %s)\n",
      "2025-10-20 13:23:42,405 INFO sqlalchemy.engine.Engine [generated in 0.00160s] [(datetime.datetime(2025, 10, 20, 0, 0), 'AED', 'United Arab Emirates Dirham', 0.000222, 4504.504504504504, 'IDR', datetime.datetime(2025, 10, 20, 13, 11, 20)), (datetime.datetime(2025, 10, 20, 0, 0), 'AFN', 'Afghan Afghani', 0.00402, 248.75621890547262, 'IDR', datetime.datetime(2025, 10, 20, 13, 11, 20)), (datetime.datetime(2025, 10, 20, 0, 0), 'ALL', 'Albanian Lek', 0.004997, 200.12007204322595, 'IDR', datetime.datetime(2025, 10, 20, 13, 11, 20)), (datetime.datetime(2025, 10, 20, 0, 0), 'AMD', 'Armenian Dram', 0.023214, 43.07745326096322, 'IDR', datetime.datetime(2025, 10, 20, 13, 11, 20)), (datetime.datetime(2025, 10, 20, 0, 0), 'ANG', 'Netherlands Antillean Guilder', 0.000108, 9259.25925925926, 'IDR', datetime.datetime(2025, 10, 20, 13, 11, 20)), (datetime.datetime(2025, 10, 20, 0, 0), 'AOA', 'Angolan Kwanza', 0.055322, 18.075991468132028, 'IDR', datetime.datetime(2025, 10, 20, 13, 11, 20)), (datetime.datetime(2025, 10, 20, 0, 0), 'ARS', 'Argentine Peso', 0.087933, 11.372294815370793, 'IDR', datetime.datetime(2025, 10, 20, 13, 11, 20)), (datetime.datetime(2025, 10, 20, 0, 0), 'AUD', 'Australian Dollar', 9.272239e-05, 10784.881623521569, 'IDR', datetime.datetime(2025, 10, 20, 13, 11, 20))  ... displaying 10 of 171 total bound parameter sets ...  (datetime.datetime(2025, 10, 20, 0, 0), 'ZMW', 'Zambian Kwacha', 0.001371, 729.3946024799417, 'IDR', datetime.datetime(2025, 10, 20, 13, 11, 20)), (datetime.datetime(2025, 10, 20, 0, 0), 'ZWL', 'Zimbabwean Dollar', 0.019426, 51.47740142077628, 'IDR', datetime.datetime(2025, 10, 20, 13, 11, 20))]\n",
      "2025-10-20 13:23:42,413 INFO sqlalchemy.engine.Engine COMMIT\n",
      "Data berhasil ditambahkan ke tabel 'exchange_rate' di MySQL\n"
     ]
    }
   ],
   "source": [
    "df = load_to_mysql(df)"
   ]
  },
  {
   "cell_type": "code",
   "execution_count": 24,
   "id": "a4a4e222",
   "metadata": {},
   "outputs": [],
   "source": [
    "if df.isnull().sum().any():\n",
    "    print(\"⚠️ Warning: terdapat nilai kosong di dataset.\")"
   ]
  }
 ],
 "metadata": {
  "kernelspec": {
   "display_name": "venv (3.13.1)",
   "language": "python",
   "name": "python3"
  },
  "language_info": {
   "codemirror_mode": {
    "name": "ipython",
    "version": 3
   },
   "file_extension": ".py",
   "mimetype": "text/x-python",
   "name": "python",
   "nbconvert_exporter": "python",
   "pygments_lexer": "ipython3",
   "version": "3.13.1"
  }
 },
 "nbformat": 4,
 "nbformat_minor": 5
}
